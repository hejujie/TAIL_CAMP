{
 "cells": [
  {
   "cell_type": "code",
   "execution_count": 23,
   "metadata": {
    "collapsed": true
   },
   "outputs": [],
   "source": [
    "import tensorflow as tf\n",
    "import numpy as np"
   ]
  },
  {
   "cell_type": "code",
   "execution_count": 31,
   "metadata": {
    "collapsed": false
   },
   "outputs": [],
   "source": [
    "batch_size = 64\n",
    "n_image_size = 27\n",
    "n_input = 27 * 27\n",
    "n_classes = 10\n",
    "n_channel = 1\n",
    "keep_prob_conv = 0.8\n",
    "keep_prob_full = 0.7\n",
    "\n",
    "# TODO: Dimension need to be set\n",
    "# DDL: 2018/1/30\n",
    "tf.reset_default_graph()\n",
    "weights = {\n",
    "    \"wc1\" : tf.get_variable(\"wc1\", shape = [1, 2], \n",
    "                        initializer=tf.contrib.layers.xavier_initializer()),\n",
    "    \"wc2\" : tf.get_variable(\"wc2\", shape = [1, 2], \n",
    "                        initializer=tf.contrib.layers.xavier_initializer()),\n",
    "    \"wc3\" : tf.get_variable(\"wc3\", shape = [1, 2], \n",
    "                        initializer=tf.contrib.layers.xavier_initializer()),\n",
    "    \"wc4\" : tf.get_variable(\"wc4\", shape = [1, 2], \n",
    "                        initializer=tf.contrib.layers.xavier_initializer()),\n",
    "    \"wc5\" : tf.get_variable(\"wc5\", shape = [1, 2], \n",
    "                        initializer=tf.contrib.layers.xavier_initializer()),\n",
    "    \"wfc1\" : tf.get_variable(\"wfc1\", shape = [1, 2],\n",
    "                            initializer=tf.contrib.layers.xavier_initializer()),\n",
    "    \"wfc2\" : tf.get_variable(\"wfc2\", shape = [1, 2],\n",
    "                             initializer=tf.contrib.layers.xavier_initializer()),\n",
    "    \"wout\" : tf.get_variable(\"wout\", shape = [1, 2],\n",
    "                            initializer=tf.contrib.layers.xavier_initializer())\n",
    "}\n",
    "\n",
    "biases = {\n",
    "    \"bc1\" : tf.get_variable(\"bc1\", shape = [1, 2], \n",
    "                        initializer=tf.contrib.layers.xavier_initializer()),\n",
    "    \"bc2\" : tf.get_variable(\"bc2\", shape = [1, 2], \n",
    "                        initializer=tf.contrib.layers.xavier_initializer()),\n",
    "    \"bc3\" : tf.get_variable(\"bc3\", shape = [1, 2], \n",
    "                        initializer=tf.contrib.layers.xavier_initializer()),\n",
    "    \"bc4\" : tf.get_variable(\"bc4\", shape = [1, 2], \n",
    "                        initializer=tf.contrib.layers.xavier_initializer()),\n",
    "    \"bc5\" : tf.get_variable(\"bc5\", shape = [1, 2], \n",
    "                        initializer=tf.contrib.layers.xavier_initializer()),\n",
    "    \"bfc1\" : tf.get_variable(\"bfc1\", shape = [1, 2],\n",
    "                            initializer=tf.contrib.layers.xavier_initializer()),\n",
    "    \"bfc2\" : tf.get_variable(\"bfc2\", shape = [1, 2],\n",
    "                             initializer=tf.contrib.layers.xavier_initializer()),\n",
    "    \"bout\" : tf.get_variable(\"bout\", shape = [1, 2],\n",
    "                            initializer=tf.contrib.layers.xavier_initializer())\n",
    "}\n",
    "\n",
    "images_ph = tf.placeholder(tf.float32, [None, n_input, n_channel])\n",
    "labels_ph = tf.placeholder(tf.float32, [None, n_classes])\n",
    "keep_prob_conv_ph = tf.placeholder(tf.float32)\n",
    "keep_prob_full_ph = tf.placeholder(tf.float32)"
   ]
  },
  {
   "cell_type": "code",
   "execution_count": 32,
   "metadata": {
    "collapsed": false
   },
   "outputs": [
    {
     "name": "stdout",
     "output_type": "stream",
     "text": [
      "<tf.Variable 'wc1:0' shape=(1, 2) dtype=float32_ref> <tf.Variable 'bout:0' shape=(1, 2) dtype=float32_ref>\n"
     ]
    }
   ],
   "source": [
    "print(weights.get(\"wc1\"), biases.get(\"bout\"))"
   ]
  },
  {
   "cell_type": "code",
   "execution_count": 38,
   "metadata": {
    "collapsed": false
   },
   "outputs": [],
   "source": [
    "def conv2d(name, X, w, b, s):\n",
    "    conv = tf.nn.conv2d(X, w, strides=[1, s, s, 1], padding=\"SAME\")\n",
    "    conv = tf.nn.bias_add(conv, b)\n",
    "    return tf.nn.relu(conv, name=name)\n",
    "\n",
    "def dropout(name, X, keep_prob):\n",
    "    return tf.nn.dropout(X, keep_prob=keep_prob, name=name)\n",
    "\n",
    "def max_pooling(name, X, k, s):\n",
    "    return tf.nn.max_pool(X, ksize=[1, k, k, 1], strides=[1, s, s, 1], name=name)\n",
    "\n",
    "# TODO: reset the parameter\n",
    "# DDL: 2018/1/30\n",
    "def local_response(name, X, lsize):\n",
    "    return tf.nn.lrn(X, depth_radius=lsize, bias=1, alpha=0.001, beta=0.75, name=name)\n"
   ]
  },
  {
   "cell_type": "code",
   "execution_count": 40,
   "metadata": {
    "collapsed": true
   },
   "outputs": [],
   "source": [
    "def alex_network(X, weights, biases, keep_prob_conv, keep_prob_full):\n",
    "    X = tf.reshape(X, shape = [-1, n_image_size, n_image_size, n_channel])\n",
    "    \n",
    "    conv1 = conv2d(\"conv1\", X, weights.get(\"wc1\"), biases.get(\"bc1\"), 1)\n",
    "    pooling1 = max_pooling(\"pooling1\", conv1, 3, 2)\n",
    "    print(pooling1.shape)\n",
    "    response1 = local_response(\"response1\", pooling1, 4)\n",
    "    dropout1 = dropout('dropout1', response1, keep_prob_conv)\n",
    "    print(dropout1.shape)\n",
    "    \n",
    "    conv2 = conv2d(\"conv2\", dropout1, weights.get(\"wc2\"), biases.get(\"bc2\"), 1)\n",
    "    pooling2 = max_pooling(\"pooling2\", conv2, 3, 2)\n",
    "    response2 = local_response(\"response2\", pooling2, 4)\n",
    "    dropout2 = dropout('dropout2', response2, keep_prob_conv)\n",
    "    \n",
    "    conv3 = conv2d(\"conv3\", dropout2, weights.get(\"wc3\"), biases.get(\"bc3\"), 1)\n",
    "    pooling3 = max_pooling(\"pooling3\", conv3, 3, 2)\n",
    "    response3 = local_response(\"response3\", pooling3, 4)\n",
    "    dropout3 = dropout('dropout3', response3, keep_prob_conv)\n",
    "    \n",
    "    conv4 = conv2d(\"conv4\", dropout3, weights.get(\"wc4\"), biases.get(\"bc4\"), 1)\n",
    "    pooling4 = max_pooling(\"pooling4\", conv4, 3, 2)\n",
    "    response4 = local_response(\"response4\", pooling4, 4)\n",
    "    dropout4 = dropout('dropout4', response4, keep_prob_conv)\n",
    "    \n",
    "    conv5 = conv2d(\"conv5\", dropout4, weights.get(\"wc5\"), biases.get(\"bc5\"), 1)\n",
    "    pooling5 = max_pooling(\"pooling5\", conv5, 3, 2)\n",
    "\n",
    "    dense = tf.reshape(pooling5, shape=[-1, pooling5.shape[0]*pooling5.shape[1].pooling5.shape[2]])\n",
    "    fc1 = tf.nn.relu(tf.nn.bias_add(tf.matmul(dense, weights.get(\"wfc1\")), biases.get(\"bfc1\")))\n",
    "    fc1 = tf.nn.dropout(fc1, keep_prob_full)\n",
    "    \n",
    "    fc2 = tf.nn.relu(tf.nn.bias_add(tf.matmul(fc1, weights.get(\"wfc2\")), biases.get(\"bfc2\")))\n",
    "    fc2 = tf.nn.dropout(fc2, keep_prob_full)\n",
    "\n",
    "    output = tf.nn.bias_add(tf.matmul(fc2, weights.get(\"wout\")), biases.get(\"bout\"))\n",
    "    \n",
    "    return output"
   ]
  },
  {
   "cell_type": "code",
   "execution_count": 42,
   "metadata": {
    "collapsed": false
   },
   "outputs": [],
   "source": [
    "learning_rate = 0.001\n",
    "\n",
    "initial = tf.global_variables_initializer()\n",
    "# if we want to go ahead, we need to fix the dimension of wieghts and biases\n",
    "logits = alex_network(images_ph, weights, biases, keep_prob_conv_ph, keep_prob_full_ph)\n",
    "\n",
    "loss = tf.reduce_mean(tf.nn.softmax_cross_entropy_with_logits(logits=ligits, labels=labels_ph))\n",
    "\n",
    "optimize = tf.train.AdamOptimizer(learning_rate=learning_rate).minimize(loss)\n",
    "\n",
    "correct = tf.equal(tf.arg_max(logits, 1), tf.argmax(labels_ph, 1))\n",
    "accuracy = tf.reduce_mean(tf.cast(correct, tf.fl))"
   ]
  },
  {
   "cell_type": "code",
   "execution_count": null,
   "metadata": {
    "collapsed": true
   },
   "outputs": [],
   "source": []
  }
 ],
 "metadata": {
  "anaconda-cloud": {},
  "kernelspec": {
   "display_name": "Python [conda env:tensorflow]",
   "language": "python",
   "name": "conda-env-tensorflow-py"
  },
  "language_info": {
   "codemirror_mode": {
    "name": "ipython",
    "version": 3
   },
   "file_extension": ".py",
   "mimetype": "text/x-python",
   "name": "python",
   "nbconvert_exporter": "python",
   "pygments_lexer": "ipython3",
   "version": "3.5.3"
  }
 },
 "nbformat": 4,
 "nbformat_minor": 1
}
